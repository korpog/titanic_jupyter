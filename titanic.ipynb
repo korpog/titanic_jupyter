{
 "cells": [
  {
   "cell_type": "markdown",
   "metadata": {},
   "source": [
    "# Titanic Survivors - Data Visualization with Pandas and Seaborn\n",
    "Original dataset can be found [here](https://www.kaggle.com/c/titanic/data). I am using the training data (train.csv)."
   ]
  },
  {
   "cell_type": "code",
   "execution_count": null,
   "metadata": {},
   "outputs": [],
   "source": [
    "import pandas as pd\n",
    "import seaborn as sns\n",
    "import matplotlib.pyplot as plt\n",
    "\n",
    "sns.set_theme(style=\"whitegrid\")\n",
    "\n",
    "data = pd.read_csv(\"data/titanic.csv\")"
   ]
  },
  {
   "cell_type": "markdown",
   "metadata": {},
   "source": [
    "Let's take a look at our dataframe"
   ]
  },
  {
   "cell_type": "code",
   "execution_count": null,
   "metadata": {},
   "outputs": [],
   "source": [
    "data.head()"
   ]
  },
  {
   "cell_type": "markdown",
   "metadata": {},
   "source": [
    "Firstly, we'll show the relationship between the number of survivors and gender and travel classes"
   ]
  },
  {
   "cell_type": "code",
   "execution_count": null,
   "metadata": {},
   "outputs": [],
   "source": [
    "dta = data.groupby([\"Sex\", \"Pclass\"], as_index=False)[\"Survived\"].sum()\n",
    "\n",
    "g = sns.catplot(\n",
    "    data=dta, kind=\"bar\",\n",
    "    x=\"Pclass\", y=\"Survived\", hue=\"Sex\", \n",
    "    palette=\"dark\", alpha=.9, height=6\n",
    ").set(title=\"Number of Titanic survivors by class and sex\")\n",
    "g.set_axis_labels(\"Class\", \"Number of survivors\")"
   ]
  },
  {
   "cell_type": "markdown",
   "metadata": {},
   "source": [
    "Let's see the same relationship but now expressed as a percentage"
   ]
  },
  {
   "cell_type": "code",
   "execution_count": null,
   "metadata": {},
   "outputs": [],
   "source": [
    "dta = data.groupby([\"Sex\", \"Pclass\"], as_index=False)[\"Survived\"].apply(lambda x:\n",
    "                                                                        100 * x.sum()/x.count())\n",
    "\n",
    "g = sns.catplot(\n",
    "    data=dta, kind=\"bar\",\n",
    "    x=\"Pclass\", y=\"Survived\", hue=\"Sex\",\n",
    "    palette=\"dark\", alpha=.9, height=8\n",
    ").set(title=\"Percentage of Titanic survivors by class and sex\")\n",
    "g.set_axis_labels(\"Class\", \"Percentage of survivors [%]\")"
   ]
  }
 ],
 "metadata": {
  "kernelspec": {
   "display_name": "Python 3",
   "language": "python",
   "name": "python3"
  },
  "language_info": {
   "codemirror_mode": {
    "name": "ipython",
    "version": 3
   },
   "file_extension": ".py",
   "mimetype": "text/x-python",
   "name": "python",
   "nbconvert_exporter": "python",
   "pygments_lexer": "ipython3",
   "version": "3.10.12"
  },
  "orig_nbformat": 4
 },
 "nbformat": 4,
 "nbformat_minor": 2
}
